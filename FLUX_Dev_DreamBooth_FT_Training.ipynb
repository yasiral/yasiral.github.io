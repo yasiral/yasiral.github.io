{
  "nbformat": 4,
  "nbformat_minor": 0,
  "metadata": {
    "colab": {
      "provenance": [],
      "authorship_tag": "ABX9TyNo49dKJ32ClnulEcxfOUPC",
      "include_colab_link": true
    },
    "kernelspec": {
      "name": "python3",
      "display_name": "Python 3"
    },
    "language_info": {
      "name": "python"
    }
  },
  "cells": [
    {
      "cell_type": "markdown",
      "metadata": {
        "id": "view-in-github",
        "colab_type": "text"
      },
      "source": [
        "<a href=\"https://colab.research.google.com/github/yasiral/yasiral.github.io/blob/master/FLUX_Dev_DreamBooth_FT_Training.ipynb\" target=\"_parent\"><img src=\"https://colab.research.google.com/assets/colab-badge.svg\" alt=\"Open In Colab\"/></a>"
      ]
    },
    {
      "cell_type": "code",
      "source": [],
      "metadata": {
        "id": "lPidDQImz1uU"
      },
      "execution_count": null,
      "outputs": []
    },
    {
      "cell_type": "markdown",
      "source": [
        "#Environment Information\n",
        "\n",
        "Display the current environment's hardware specifications,"
      ],
      "metadata": {
        "id": "DPtsKwR02jcQ"
      }
    },
    {
      "cell_type": "code",
      "source": [
        "!nvidia-smi\n",
        "!cat /proc/cpuinfo\n",
        "!cat /proc/meminfo\n"
      ],
      "metadata": {
        "id": "3plM0Kdk2xzm"
      },
      "execution_count": null,
      "outputs": []
    },
    {
      "cell_type": "markdown",
      "source": [
        "# DreamBooth Training Example for FLUX.1 [dev]\n",
        "\n",
        "DreamBooth is a method to personalize text2image models like stable diffusion given just a few (3~5) images of a subject. This notebook guides you through the training procedure specifically adapted for FLUX.1 [dev], including a LoRA implementation.\n"
      ],
      "metadata": {
        "id": "rHSXw1MR0yP8"
      }
    },
    {
      "cell_type": "markdown",
      "source": [
        "## Important Setup Instructions\n",
        "\n",
        "Before you begin, ensure that you have completed the necessary setup steps on the Hugging Face platform to access FLUX.1 [dev], which is a gated model.\n",
        "\n",
        "1. Visit the FLUX.1 [dev] Hugging Face page.\n",
        "2. Fill in the form and accept the terms to access the model.\n",
        "3. Use the command below to login to Hugging Face from your local machine:\n"
      ],
      "metadata": {
        "id": "f3AbePtC01qU"
      }
    },
    {
      "cell_type": "code",
      "source": [
        "!huggingface-cli login\n"
      ],
      "metadata": {
        "id": "SKU93Xgkz1xo"
      },
      "execution_count": null,
      "outputs": []
    },
    {
      "cell_type": "markdown",
      "source": [
        "## Installation of Dependencies\n",
        "\n",
        "Ensure you have all the required libraries by installing them as follows:\n"
      ],
      "metadata": {
        "id": "2HzDp4aP078F"
      }
    },
    {
      "cell_type": "code",
      "source": [
        "# Clone the repository and install the package and its dependencies\n",
        "!git clone https://github.com/huggingface/diffusers\n",
        "%cd diffusers\n",
        "!pip install -e .\n",
        "\n",
        "# Navigate to the DreamBooth example directory and install example-specific requirements\n",
        "%cd examples/dreambooth\n",
        "!pip install -r requirements_flux.txt\n"
      ],
      "metadata": {
        "id": "vOSUOpXG1AMh"
      },
      "execution_count": null,
      "outputs": []
    },
    {
      "cell_type": "markdown",
      "source": [
        "### Initialize 🤗 Accelerate\n",
        "\n",
        "To handle different environments and simplify running the training scripts, initialize an Accelerate configuration:\n"
      ],
      "metadata": {
        "id": "KPThRDmv1Dzg"
      }
    },
    {
      "cell_type": "code",
      "source": [
        "from accelerate.utils import write_basic_config\n",
        "write_basic_config()\n"
      ],
      "metadata": {
        "id": "LbdcYHox1F8t"
      },
      "execution_count": null,
      "outputs": []
    },
    {
      "cell_type": "markdown",
      "source": [
        "## Dog Toy Example\n",
        "\n",
        "First, we will download the dataset of dog images used for the training example.\n"
      ],
      "metadata": {
        "id": "kV92s6gG1Jil"
      }
    },
    {
      "cell_type": "code",
      "source": [
        "from huggingface_hub import snapshot_download\n",
        "\n",
        "local_dir = \"./dog\"\n",
        "snapshot_download(\"diffusers/dog-example\", local_dir=local_dir, repo_type=\"dataset\")\n"
      ],
      "metadata": {
        "id": "SzPCySRL1Lo5"
      },
      "execution_count": null,
      "outputs": []
    },
    {
      "cell_type": "markdown",
      "source": [
        "## Training the Model\n",
        "\n",
        "Now that the dataset is ready, let's setup the environment variables and start the training process.\n"
      ],
      "metadata": {
        "id": "aCAtWyOM1OAB"
      }
    },
    {
      "cell_type": "code",
      "source": [
        "import os\n",
        "\n",
        "# Set environment variables\n",
        "os.environ['MODEL_NAME'] = \"black-forest-labs/FLUX.1-dev\"\n",
        "os.environ['INSTANCE_DIR'] = \"dog\"\n",
        "os.environ['OUTPUT_DIR'] = \"trained-flux\"\n",
        "\n",
        "# Run the training script\n",
        "!accelerate launch train_dreambooth_flux.py \\\n",
        "  --pretrained_model_name_or_path=$MODEL_NAME \\\n",
        "  --instance_data_dir=$INSTANCE_DIR \\\n",
        "  --output_dir=$OUTPUT_DIR \\\n",
        "  --mixed_precision=\"bf16\" \\\n",
        "  --instance_prompt=\"a photo of sks dog\" \\\n",
        "  --resolution=1024 \\\n",
        "  --train_batch_size=1 \\\n",
        "  --gradient_accumulation_steps=4 \\\n",
        "  --learning_rate=1e-4 \\\n",
        "  --report_to=\"wandb\" \\\n",
        "  --lr_scheduler=\"constant\" \\\n",
        "  --lr_warmup_steps=0 \\\n",
        "  --max_train_steps=500 \\\n",
        "  --validation_prompt=\"A photo of sks dog in a bucket\" \\\n",
        "  --validation_epochs=25 \\\n",
        "  --seed=\"0\" \\\n",
        "  --push_to_hub\n"
      ],
      "metadata": {
        "id": "Z1z7Y-PF1QIR"
      },
      "execution_count": null,
      "outputs": []
    },
    {
      "cell_type": "markdown",
      "source": [
        "## Training with LoRA\n",
        "\n",
        "For a more parameter-efficient training using LoRA, follow the steps below:\n"
      ],
      "metadata": {
        "id": "g80ezfgy1Sw9"
      }
    },
    {
      "cell_type": "code",
      "source": [
        "os.environ['OUTPUT_DIR'] = \"trained-flux-lora\"\n",
        "\n",
        "# Run the LoRA training script\n",
        "!accelerate launch train_dreambooth_lora_flux.py \\\n",
        "  --pretrained_model_name_or_path=$MODEL_NAME \\\n",
        "  --instance_data_dir=$INSTANCE_DIR \\\n",
        "  --output_dir=$OUTPUT_DIR \\\n",
        "  --mixed_precision=\"bf16\" \\\n",
        "  --train_text_encoder \\\n",
        "  --instance_prompt=\"a photo of sks dog\" \\\n",
        "  --resolution=512 \\\n",
        "  --train_batch_size=1 \\\n",
        "  --gradient_accumulation_steps=4 \\\n",
        "  --learning_rate=1e-5 \\\n",
        "  --report_to=\"wandb\" \\\n",
        "  --lr_scheduler=\"constant\" \\\n",
        "  --lr_warmup_steps=0 \\\n",
        "  --max_train_steps=500 \\\n",
        "  --validation_prompt=\"A photo of sks dog in a bucket\" \\\n",
        "  --seed=\"0\" \\\n",
        "  --push_to_hub\n"
      ],
      "metadata": {
        "id": "DrYv48T11UcG"
      },
      "execution_count": null,
      "outputs": []
    },
    {
      "cell_type": "markdown",
      "source": [
        "## Note on Memory Consumption and Performance\n",
        "\n",
        "Remember, training such models can be resource-intensive. Consider the system requirements and setup optimizations like using 8-bit Adam or adjusting the `torch` compile mode for performance gains.\n"
      ],
      "metadata": {
        "id": "qmBAJ6Kz1XLe"
      }
    }
  ]
}